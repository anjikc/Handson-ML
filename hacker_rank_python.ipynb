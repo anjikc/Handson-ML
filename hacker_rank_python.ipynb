{
 "cells": [
  {
   "cell_type": "code",
   "execution_count": null,
   "metadata": {},
   "outputs": [
    {
     "ename": "",
     "evalue": "",
     "output_type": "error",
     "traceback": [
      "\u001b[1;31mRunning cells with 'Python 3.6.8 ('env': venv)' requires ipykernel package.\n",
      "Run the following command to install 'ipykernel' into the Python environment. \n",
      "Command: 'c:/Projects/DS_aLGO/env/Scripts/python.exe -m pip install ipykernel -U --force-reinstall'"
     ]
    }
   ],
   "source": [
    "# The Minion Game in Python - Hacker Rank Solution\n",
    "def minion_game(string):\n",
    "    # your code goes here\n",
    "    # The Minion Game in Python - Hacker Rank Solution START\n",
    "    player1 = 0;\n",
    "    player2 = 0;\n",
    "    str_len = len(string)\n",
    "    for i in range(str_len):\n",
    "        if s[i] in \"AEIOU\":\n",
    "            player1 += (str_len)-i\n",
    "        else :\n",
    "            player2 += (str_len)-i\n",
    "    \n",
    "    if player1 > player2:\n",
    "        print(\"Kevin\", player1)\n",
    "    elif player1 < player2:\n",
    "        print(\"Stuart\",player2)\n",
    "    elif player1 == player2:\n",
    "        print(\"Draw\")\n",
    "    else :\n",
    "        print(\"Draw\")\n",
    "    # The Minion Game in Python - Hacker Rank Solution END\n",
    "\n",
    "if __name__ == '__main__':\n",
    "    s = input()\n",
    "    minion_game(s)"
   ]
  }
 ],
 "metadata": {
  "interpreter": {
   "hash": "a61827cc7585ac1fac56b9850173788a912e9dfe1958a4fedcccb126024d167c"
  },
  "kernelspec": {
   "display_name": "Python 3.6.8 ('env': venv)",
   "language": "python",
   "name": "python3"
  },
  "language_info": {
   "name": "python",
   "version": "3.6.8"
  },
  "orig_nbformat": 4
 },
 "nbformat": 4,
 "nbformat_minor": 2
}



