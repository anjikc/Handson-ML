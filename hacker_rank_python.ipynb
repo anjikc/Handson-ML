{
 "cells": [
  {
   "cell_type": "code",
   "execution_count": 1,
   "metadata": {},
   "outputs": [
    {
     "name": "stdout",
     "output_type": "stream",
     "text": [
      "Stuart 12\n"
     ]
    }
   ],
   "source": [
    "# The Minion Game in Python - Hacker Rank Solution\n",
    "def minion_game(string):\n",
    "    # your code goes here\n",
    "    # The Minion Game in Python - Hacker Rank Solution START\n",
    "    player1 = 0;\n",
    "    player2 = 0;\n",
    "    str_len = len(string)\n",
    "    for i in range(str_len):\n",
    "        if s[i] in \"AEIOU\":\n",
    "            player1 += (str_len)-i\n",
    "        else :\n",
    "            player2 += (str_len)-i\n",
    "    \n",
    "    if player1 > player2:\n",
    "        print(\"Kevin\", player1)\n",
    "    elif player1 < player2:\n",
    "        print(\"Stuart\",player2)\n",
    "    elif player1 == player2:\n",
    "        print(\"Draw\")\n",
    "    else :\n",
    "        print(\"Draw\")\n",
    "    # The Minion Game in Python - Hacker Rank Solution END\n",
    "\n",
    "if __name__ == '__main__':\n",
    "    s = input()\n",
    "    minion_game(s)\n",
    "    "
   ]
  },
  {
   "cell_type": "code",
   "execution_count": 5,
   "metadata": {},
   "outputs": [
    {
     "ename": "ValueError",
     "evalue": "invalid literal for int() with base 10: 'al'",
     "output_type": "error",
     "traceback": [
      "\u001b[1;31m---------------------------------------------------------------------------\u001b[0m",
      "\u001b[1;31mValueError\u001b[0m                                Traceback (most recent call last)",
      "\u001b[1;32mc:\\Projects\\Handson-ML\\hacker_rank_python.ipynb Cell 2'\u001b[0m in \u001b[0;36m<module>\u001b[1;34m\u001b[0m\n\u001b[0;32m     <a href='vscode-notebook-cell:/c%3A/Projects/Handson-ML/hacker_rank_python.ipynb#ch0000001?line=20'>21</a>\u001b[0m     \u001b[39mreturn\u001b[39;00m(ar)\n\u001b[0;32m     <a href='vscode-notebook-cell:/c%3A/Projects/Handson-ML/hacker_rank_python.ipynb#ch0000001?line=21'>22</a>\u001b[0m \u001b[39mif\u001b[39;00m \u001b[39m__name__\u001b[39m \u001b[39m==\u001b[39m \u001b[39m'\u001b[39m\u001b[39m__main__\u001b[39m\u001b[39m'\u001b[39m:\n\u001b[0;32m     <a href='vscode-notebook-cell:/c%3A/Projects/Handson-ML/hacker_rank_python.ipynb#ch0000001?line=22'>23</a>\u001b[0m     \u001b[39m#fptr = open(os.environ['OUTPUT_PATH'], 'w')\u001b[39;00m\n\u001b[1;32m---> <a href='vscode-notebook-cell:/c%3A/Projects/Handson-ML/hacker_rank_python.ipynb#ch0000001?line=23'>24</a>\u001b[0m     a \u001b[39m=\u001b[39m \u001b[39mlist\u001b[39;49m(\u001b[39mmap\u001b[39;49m(\u001b[39mint\u001b[39;49m, \u001b[39minput\u001b[39;49m()\u001b[39m.\u001b[39;49mrstrip()\u001b[39m.\u001b[39;49msplit()))\n\u001b[0;32m     <a href='vscode-notebook-cell:/c%3A/Projects/Handson-ML/hacker_rank_python.ipynb#ch0000001?line=24'>25</a>\u001b[0m     b \u001b[39m=\u001b[39m \u001b[39mlist\u001b[39m(\u001b[39mmap\u001b[39m(\u001b[39mint\u001b[39m, \u001b[39minput\u001b[39m()\u001b[39m.\u001b[39mrstrip()\u001b[39m.\u001b[39msplit()))\n\u001b[0;32m     <a href='vscode-notebook-cell:/c%3A/Projects/Handson-ML/hacker_rank_python.ipynb#ch0000001?line=25'>26</a>\u001b[0m     result \u001b[39m=\u001b[39m compareTriplets(a, b)\n",
      "\u001b[1;31mValueError\u001b[0m: invalid literal for int() with base 10: 'al'"
     ]
    }
   ],
   "source": [
    "#!/bin/python3\n",
    "import math\n",
    "import os\n",
    "import random\n",
    "import re\n",
    "import sys\n",
    "import pandas as pd\n",
    "# Complete the compareTriplets function below.\n",
    "def compareTriplets(a, b):\n",
    "    pointa=0\n",
    "    pointb=0\n",
    "    ar = []\n",
    "    for i in range(3):\n",
    "        if a[i]>b[i]:\n",
    "            pointa+=1\n",
    "            \n",
    "        if a[i]<b[i]:\n",
    "            pointb+=1\n",
    "    ar.insert(0,pointa)\n",
    "    ar.insert(1,pointb)        \n",
    "    return(ar)\n",
    "if __name__ == '__main__':\n",
    "    #fptr = open(os.environ['OUTPUT_PATH'], 'w')\n",
    "    a = list(map(int, input().rstrip().split()))\n",
    "    b = list(map(int, input().rstrip().split()))\n",
    "    result = compareTriplets(a, b)\n",
    "    print(result)\n",
    "    #fptr.write(' '.join(map(str, result)))\n",
    "    #fptr.write('\\n')\n"
   ]
  },
  {
   "cell_type": "markdown",
   "metadata": {},
   "source": [
    "An arcade games player wants to climb to the top of the leaderboard and track their ranking. The game uses Dense Ranking, so its leaderboard works like this:"
   ]
  },
  {
   "cell_type": "code",
   "execution_count": 3,
   "metadata": {},
   "outputs": [
    {
     "name": "stdout",
     "output_type": "stream",
     "text": [
      "[6, 4, 2, 1]\n"
     ]
    }
   ],
   "source": [
    "#!/bin/python3\n",
    "\n",
    "import math\n",
    "import os\n",
    "import random\n",
    "import re\n",
    "import sys\n",
    "\n",
    "#\n",
    "# Complete the 'climbingLeaderboard' function below.\n",
    "#\n",
    "# The function is expected to return an INTEGER_ARRAY.\n",
    "# The function accepts following parameters:\n",
    "#  1. INTEGER_ARRAY ranked\n",
    "#  2. INTEGER_ARRAY player\n",
    "#\n",
    "\n",
    "def climbingLeaderboard(ranked, player):\n",
    "    # Write your code here\n",
    "    # get the unique ranks sorted descending\n",
    "    scores = sorted(list(set(ranked)), reverse=True)\n",
    "    player_ranks = []\n",
    "    for score in player:\n",
    "        while scores and score >= scores[-1]:\n",
    "            scores.pop()\n",
    "        player_ranks.append(len(scores) + 1)\n",
    "\n",
    "    return player_ranks\n",
    "if __name__ == '__main__':\n",
    "    #fptr = open(os.environ['OUTPUT_PATH'], 'w')\n",
    "\n",
    "    ranked_count = int(input().strip())\n",
    "\n",
    "    ranked = list(map(int, input().rstrip().split()))\n",
    "\n",
    "    player_count = int(input().strip())\n",
    "\n",
    "    player = list(map(int, input().rstrip().split()))\n",
    "\n",
    "    result = climbingLeaderboard(ranked, player)\n",
    "    print(result)\n",
    "    #fptr.write('\\n'.join(map(str, result)))\n",
    "    #fptr.write('\\n')\n",
    "\n",
    "    #fptr.close()"
   ]
  }
 ],
 "metadata": {
  "kernelspec": {
   "display_name": "Python 3.10.2 64-bit",
   "language": "python",
   "name": "python3"
  },
  "language_info": {
   "codemirror_mode": {
    "name": "ipython",
    "version": 3
   },
   "file_extension": ".py",
   "mimetype": "text/x-python",
   "name": "python",
   "nbconvert_exporter": "python",
   "pygments_lexer": "ipython3",
   "version": "3.10.2"
  },
  "orig_nbformat": 4,
  "vscode": {
   "interpreter": {
    "hash": "42759a6aa005fb53b9041fc8d1f18539c86583e520bb7fe75e74625c0b2f33c6"
   }
  }
 },
 "nbformat": 4,
 "nbformat_minor": 2
}
